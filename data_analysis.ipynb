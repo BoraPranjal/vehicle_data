{
 "cells": [
  {
   "cell_type": "code",
   "execution_count": 17,
   "metadata": {},
   "outputs": [],
   "source": [
    "import pandas as pd"
   ]
  },
  {
   "cell_type": "code",
   "execution_count": 19,
   "metadata": {},
   "outputs": [
    {
     "data": {
      "text/plain": [
       "(205, 26)"
      ]
     },
     "execution_count": 19,
     "metadata": {},
     "output_type": "execute_result"
    }
   ],
   "source": [
    "data_source1 = pd.read_csv(\"./data/Automobile_data.csv\")\n",
    "data_source1.head()\n",
    "data_source1.shape"
   ]
  },
  {
   "cell_type": "code",
   "execution_count": 20,
   "metadata": {},
   "outputs": [
    {
     "data": {
      "text/plain": [
       "(371528, 20)"
      ]
     },
     "execution_count": 20,
     "metadata": {},
     "output_type": "execute_result"
    }
   ],
   "source": [
    "#import chardet\n",
    "#with open(\"./data/autos.csv\", 'rb') as rawdata:\n",
    "#    result = chardet.detect(rawdata.read(10000))\n",
    "\n",
    "# check what the character encoding might be\n",
    "#print(result)\n",
    "data_source2 = pd.read_csv(\"./data/autos.csv\", encoding =\"Windows-1252\")\n",
    "data_source2.head()\n",
    "data_source2.shape"
   ]
  },
  {
   "cell_type": "code",
   "execution_count": 21,
   "metadata": {},
   "outputs": [
    {
     "data": {
      "text/plain": [
       "(1770, 8)"
      ]
     },
     "execution_count": 21,
     "metadata": {},
     "output_type": "execute_result"
    }
   ],
   "source": [
    "data_source3 = pd.read_csv(\"./data/cnt_km_year_powerPS_minPrice_maxPrice_avgPrice_sdPrice.csv\")\n",
    "data_source3.head()\n",
    "data_source3.shape"
   ]
  },
  {
   "cell_type": "code",
   "execution_count": 51,
   "metadata": {},
   "outputs": [
    {
     "data": {
      "text/plain": [
       "(435849, 25)"
      ]
     },
     "execution_count": 51,
     "metadata": {},
     "output_type": "execute_result"
    }
   ],
   "source": [
    "data_source4 = pd.read_csv(\"./data/vehicles.csv\")\n",
    "data_source4.head()\n",
    "data_source4.shape"
   ]
  },
  {
   "cell_type": "code",
   "execution_count": 52,
   "metadata": {},
   "outputs": [
    {
     "data": {
      "text/plain": [
       "Index(['id', 'url', 'region', 'region_url', 'price', 'year', 'manufacturer',\n",
       "       'model', 'condition', 'cylinders', 'fuel', 'odometer', 'title_status',\n",
       "       'transmission', 'vin', 'drive', 'size', 'type', 'paint_color',\n",
       "       'image_url', 'description', 'county', 'state', 'lat', 'long'],\n",
       "      dtype='object')"
      ]
     },
     "execution_count": 52,
     "metadata": {},
     "output_type": "execute_result"
    }
   ],
   "source": [
    "data_source4.columns"
   ]
  },
  {
   "cell_type": "code",
   "execution_count": 63,
   "metadata": {},
   "outputs": [
    {
     "data": {
      "text/plain": [
       "6"
      ]
     },
     "execution_count": 63,
     "metadata": {},
     "output_type": "execute_result"
    }
   ],
   "source": [
    "data_source4[\"condition\"].nunique()"
   ]
  },
  {
   "cell_type": "code",
   "execution_count": 70,
   "metadata": {},
   "outputs": [
    {
     "name": "stdout",
     "output_type": "stream",
     "text": [
      "['jeep', 'bmw', 'dodge', 'chevrolet', 'ford', 'ram', 'honda', 'toyota', 'nissan', 'subaru', 'gmc', 'volkswagen', 'kia', 'acura', 'chrysler', 'hyundai', 'cadillac', 'volvo', 'mini', 'mercedes-benz', 'audi', 'mazda', 'pontiac', 'buick', 'infiniti', 'mitsubishi', 'rover', 'lincoln', 'lexus', 'fiat', 'jaguar', 'mercury', 'saturn', 'datsun', 'porche', 'tesla', 'harley-davidson', 'ferrari', 'land rover', 'alfa-romeo', 'morgan', 'aston-martin']\n"
     ]
    }
   ],
   "source": [
    "make_names = data_source4[\"manufacturer\"].unique()\n",
    "makes = [x for x in make_names if str(x) != 'nan']\n",
    "print(makes)"
   ]
  },
  {
   "cell_type": "code",
   "execution_count": 72,
   "metadata": {},
   "outputs": [
    {
     "name": "stdout",
     "output_type": "stream",
     "text": [
      "jeep 19704.0\n",
      "bmw 12516.0\n",
      "dodge 14437.0\n",
      "chevrolet 62392.0\n",
      "ford 78257.0\n",
      "ram 20300.0\n",
      "honda 22408.0\n",
      "toyota 34332.0\n",
      "nissan 23135.0\n",
      "subaru 10429.0\n",
      "gmc 18649.0\n",
      "volkswagen 9867.0\n",
      "kia 7827.0\n",
      "acura 3458.0\n",
      "chrysler 6598.0\n",
      "hyundai 10595.0\n",
      "cadillac 6368.0\n",
      "volvo 2716.0\n",
      "mini 1917.0\n",
      "mercedes-benz 9520.0\n",
      "audi 4959.0\n",
      "mazda 5279.0\n",
      "pontiac 2723.0\n",
      "buick 5569.0\n",
      "infiniti 3381.0\n",
      "mitsubishi 2417.0\n",
      "rover 1845.0\n",
      "lincoln 2848.0\n",
      "lexus 5591.0\n",
      "fiat 935.0\n",
      "jaguar 911.0\n",
      "mercury 1287.0\n",
      "saturn 1181.0\n",
      "datsun 71.0\n",
      "porche 27.0\n",
      "tesla 326.0\n",
      "harley-davidson 142.0\n",
      "ferrari 80.0\n",
      "land rover 23.0\n",
      "alfa-romeo 67.0\n",
      "morgan 4.0\n",
      "aston-martin 34.0\n"
     ]
    }
   ],
   "source": [
    "df = pd.DataFrame(data_source4,columns=['manufacturer'])\n",
    "for make in makes:\n",
    "    print(make,df.manufacturer.str.count(make).sum())\n",
    "    \n",
    "\n"
   ]
  },
  {
   "cell_type": "code",
   "execution_count": 49,
   "metadata": {},
   "outputs": [
    {
     "data": {
      "text/plain": [
       "0"
      ]
     },
     "execution_count": 49,
     "metadata": {},
     "output_type": "execute_result"
    }
   ],
   "source": [
    "data_source4.manufacturer.str.count(\"bmw\").sum()"
   ]
  },
  {
   "cell_type": "code",
   "execution_count": null,
   "metadata": {},
   "outputs": [],
   "source": []
  },
  {
   "cell_type": "code",
   "execution_count": null,
   "metadata": {},
   "outputs": [],
   "source": []
  },
  {
   "cell_type": "code",
   "execution_count": null,
   "metadata": {},
   "outputs": [],
   "source": []
  },
  {
   "cell_type": "code",
   "execution_count": null,
   "metadata": {},
   "outputs": [],
   "source": []
  },
  {
   "cell_type": "code",
   "execution_count": null,
   "metadata": {},
   "outputs": [],
   "source": []
  },
  {
   "cell_type": "code",
   "execution_count": null,
   "metadata": {},
   "outputs": [],
   "source": []
  }
 ],
 "metadata": {
  "kernelspec": {
   "display_name": "Python 3",
   "language": "python",
   "name": "python3"
  },
  "language_info": {
   "codemirror_mode": {
    "name": "ipython",
    "version": 3
   },
   "file_extension": ".py",
   "mimetype": "text/x-python",
   "name": "python",
   "nbconvert_exporter": "python",
   "pygments_lexer": "ipython3",
   "version": "3.8.2"
  }
 },
 "nbformat": 4,
 "nbformat_minor": 4
}
