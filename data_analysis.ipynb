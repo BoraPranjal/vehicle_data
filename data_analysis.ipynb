{
 "cells": [
  {
   "cell_type": "code",
   "execution_count": 17,
   "metadata": {},
   "outputs": [],
   "source": [
    "import pandas as pd"
   ]
  },
  {
   "cell_type": "code",
   "execution_count": 19,
   "metadata": {},
   "outputs": [
    {
     "data": {
      "text/plain": [
       "(205, 26)"
      ]
     },
     "execution_count": 19,
     "metadata": {},
     "output_type": "execute_result"
    }
   ],
   "source": [
    "data_source1 = pd.read_csv(\"./data/Automobile_data.csv\")\n",
    "data_source1.head()\n",
    "data_source1.shape"
   ]
  },
  {
   "cell_type": "code",
   "execution_count": 20,
   "metadata": {},
   "outputs": [
    {
     "data": {
      "text/plain": [
       "(371528, 20)"
      ]
     },
     "execution_count": 20,
     "metadata": {},
     "output_type": "execute_result"
    }
   ],
   "source": [
    "#import chardet\n",
    "#with open(\"./data/autos.csv\", 'rb') as rawdata:\n",
    "#    result = chardet.detect(rawdata.read(10000))\n",
    "\n",
    "# check what the character encoding might be\n",
    "#print(result)\n",
    "data_source2 = pd.read_csv(\"./data/autos.csv\", encoding =\"Windows-1252\")\n",
    "data_source2.head()\n",
    "data_source2.shape"
   ]
  },
  {
   "cell_type": "code",
   "execution_count": 21,
   "metadata": {},
   "outputs": [
    {
     "data": {
      "text/plain": [
       "(1770, 8)"
      ]
     },
     "execution_count": 21,
     "metadata": {},
     "output_type": "execute_result"
    }
   ],
   "source": [
    "data_source3 = pd.read_csv(\"./data/cnt_km_year_powerPS_minPrice_maxPrice_avgPrice_sdPrice.csv\")\n",
    "data_source3.head()\n",
    "data_source3.shape"
   ]
  },
  {
   "cell_type": "code",
   "execution_count": 73,
   "metadata": {},
   "outputs": [
    {
     "data": {
      "text/html": [
       "<div>\n",
       "<style scoped>\n",
       "    .dataframe tbody tr th:only-of-type {\n",
       "        vertical-align: middle;\n",
       "    }\n",
       "\n",
       "    .dataframe tbody tr th {\n",
       "        vertical-align: top;\n",
       "    }\n",
       "\n",
       "    .dataframe thead th {\n",
       "        text-align: right;\n",
       "    }\n",
       "</style>\n",
       "<table border=\"1\" class=\"dataframe\">\n",
       "  <thead>\n",
       "    <tr style=\"text-align: right;\">\n",
       "      <th></th>\n",
       "      <th>id</th>\n",
       "      <th>url</th>\n",
       "      <th>region</th>\n",
       "      <th>region_url</th>\n",
       "      <th>price</th>\n",
       "      <th>year</th>\n",
       "      <th>manufacturer</th>\n",
       "      <th>model</th>\n",
       "      <th>condition</th>\n",
       "      <th>cylinders</th>\n",
       "      <th>...</th>\n",
       "      <th>drive</th>\n",
       "      <th>size</th>\n",
       "      <th>type</th>\n",
       "      <th>paint_color</th>\n",
       "      <th>image_url</th>\n",
       "      <th>description</th>\n",
       "      <th>county</th>\n",
       "      <th>state</th>\n",
       "      <th>lat</th>\n",
       "      <th>long</th>\n",
       "    </tr>\n",
       "  </thead>\n",
       "  <tbody>\n",
       "    <tr>\n",
       "      <th>0</th>\n",
       "      <td>7119256118</td>\n",
       "      <td>https://mohave.craigslist.org/ctd/d/lake-havas...</td>\n",
       "      <td>mohave county</td>\n",
       "      <td>https://mohave.craigslist.org</td>\n",
       "      <td>3495</td>\n",
       "      <td>2012.0</td>\n",
       "      <td>jeep</td>\n",
       "      <td>patriot</td>\n",
       "      <td>like new</td>\n",
       "      <td>4 cylinders</td>\n",
       "      <td>...</td>\n",
       "      <td>NaN</td>\n",
       "      <td>NaN</td>\n",
       "      <td>NaN</td>\n",
       "      <td>silver</td>\n",
       "      <td>https://images.craigslist.org/00B0B_k2AXIJ21ok...</td>\n",
       "      <td>THIS 2012 JEEP PATRIOT IS A 4CYL. AC, STEREO, ...</td>\n",
       "      <td>NaN</td>\n",
       "      <td>az</td>\n",
       "      <td>34.4554</td>\n",
       "      <td>-114.2690</td>\n",
       "    </tr>\n",
       "    <tr>\n",
       "      <th>1</th>\n",
       "      <td>7120880186</td>\n",
       "      <td>https://oregoncoast.craigslist.org/cto/d/warre...</td>\n",
       "      <td>oregon coast</td>\n",
       "      <td>https://oregoncoast.craigslist.org</td>\n",
       "      <td>13750</td>\n",
       "      <td>2014.0</td>\n",
       "      <td>bmw</td>\n",
       "      <td>328i m-sport</td>\n",
       "      <td>good</td>\n",
       "      <td>NaN</td>\n",
       "      <td>...</td>\n",
       "      <td>rwd</td>\n",
       "      <td>NaN</td>\n",
       "      <td>sedan</td>\n",
       "      <td>grey</td>\n",
       "      <td>https://images.craigslist.org/00U0U_3cLk0WGOJ8...</td>\n",
       "      <td>Selling my 2014 BMW 328i with the following be...</td>\n",
       "      <td>NaN</td>\n",
       "      <td>or</td>\n",
       "      <td>46.1837</td>\n",
       "      <td>-123.8240</td>\n",
       "    </tr>\n",
       "    <tr>\n",
       "      <th>2</th>\n",
       "      <td>7115048251</td>\n",
       "      <td>https://greenville.craigslist.org/cto/d/sparta...</td>\n",
       "      <td>greenville / upstate</td>\n",
       "      <td>https://greenville.craigslist.org</td>\n",
       "      <td>2300</td>\n",
       "      <td>2001.0</td>\n",
       "      <td>dodge</td>\n",
       "      <td>caravan</td>\n",
       "      <td>excellent</td>\n",
       "      <td>6 cylinders</td>\n",
       "      <td>...</td>\n",
       "      <td>NaN</td>\n",
       "      <td>NaN</td>\n",
       "      <td>NaN</td>\n",
       "      <td>NaN</td>\n",
       "      <td>https://images.craigslist.org/00k0k_t4WqYn5nDC...</td>\n",
       "      <td>01 DODGE CARAVAN,3.3 ENGINE,AUT TRANS,199000 M...</td>\n",
       "      <td>NaN</td>\n",
       "      <td>sc</td>\n",
       "      <td>34.9352</td>\n",
       "      <td>-81.9654</td>\n",
       "    </tr>\n",
       "    <tr>\n",
       "      <th>3</th>\n",
       "      <td>7119250502</td>\n",
       "      <td>https://mohave.craigslist.org/cto/d/lake-havas...</td>\n",
       "      <td>mohave county</td>\n",
       "      <td>https://mohave.craigslist.org</td>\n",
       "      <td>9000</td>\n",
       "      <td>2004.0</td>\n",
       "      <td>chevrolet</td>\n",
       "      <td>colorado ls</td>\n",
       "      <td>excellent</td>\n",
       "      <td>5 cylinders</td>\n",
       "      <td>...</td>\n",
       "      <td>rwd</td>\n",
       "      <td>mid-size</td>\n",
       "      <td>pickup</td>\n",
       "      <td>red</td>\n",
       "      <td>https://images.craigslist.org/00J0J_lJEzfeVLHI...</td>\n",
       "      <td>2004 Chevy Colorado LS, ONLY 54000 ORIGINAL MI...</td>\n",
       "      <td>NaN</td>\n",
       "      <td>az</td>\n",
       "      <td>34.4783</td>\n",
       "      <td>-114.2710</td>\n",
       "    </tr>\n",
       "    <tr>\n",
       "      <th>4</th>\n",
       "      <td>7120433904</td>\n",
       "      <td>https://maine.craigslist.org/ctd/d/searsport-t...</td>\n",
       "      <td>maine</td>\n",
       "      <td>https://maine.craigslist.org</td>\n",
       "      <td>0</td>\n",
       "      <td>2021.0</td>\n",
       "      <td>NaN</td>\n",
       "      <td>Honda-Nissan-Kia-Ford-Hyundai-VW</td>\n",
       "      <td>NaN</td>\n",
       "      <td>NaN</td>\n",
       "      <td>...</td>\n",
       "      <td>NaN</td>\n",
       "      <td>NaN</td>\n",
       "      <td>NaN</td>\n",
       "      <td>NaN</td>\n",
       "      <td>https://images.craigslist.org/01010_j0IW34mCsm...</td>\n",
       "      <td>CALL: 207.548.6500 TEXT: 207.407.5598  **WE FI...</td>\n",
       "      <td>NaN</td>\n",
       "      <td>me</td>\n",
       "      <td>44.4699</td>\n",
       "      <td>-68.8963</td>\n",
       "    </tr>\n",
       "  </tbody>\n",
       "</table>\n",
       "<p>5 rows × 25 columns</p>\n",
       "</div>"
      ],
      "text/plain": [
       "           id                                                url  \\\n",
       "0  7119256118  https://mohave.craigslist.org/ctd/d/lake-havas...   \n",
       "1  7120880186  https://oregoncoast.craigslist.org/cto/d/warre...   \n",
       "2  7115048251  https://greenville.craigslist.org/cto/d/sparta...   \n",
       "3  7119250502  https://mohave.craigslist.org/cto/d/lake-havas...   \n",
       "4  7120433904  https://maine.craigslist.org/ctd/d/searsport-t...   \n",
       "\n",
       "                 region                          region_url  price    year  \\\n",
       "0         mohave county       https://mohave.craigslist.org   3495  2012.0   \n",
       "1          oregon coast  https://oregoncoast.craigslist.org  13750  2014.0   \n",
       "2  greenville / upstate   https://greenville.craigslist.org   2300  2001.0   \n",
       "3         mohave county       https://mohave.craigslist.org   9000  2004.0   \n",
       "4                 maine        https://maine.craigslist.org      0  2021.0   \n",
       "\n",
       "  manufacturer                             model  condition    cylinders  ...  \\\n",
       "0         jeep                           patriot   like new  4 cylinders  ...   \n",
       "1          bmw                      328i m-sport       good          NaN  ...   \n",
       "2        dodge                           caravan  excellent  6 cylinders  ...   \n",
       "3    chevrolet                       colorado ls  excellent  5 cylinders  ...   \n",
       "4          NaN  Honda-Nissan-Kia-Ford-Hyundai-VW        NaN          NaN  ...   \n",
       "\n",
       "  drive      size    type paint_color  \\\n",
       "0   NaN       NaN     NaN      silver   \n",
       "1   rwd       NaN   sedan        grey   \n",
       "2   NaN       NaN     NaN         NaN   \n",
       "3   rwd  mid-size  pickup         red   \n",
       "4   NaN       NaN     NaN         NaN   \n",
       "\n",
       "                                           image_url  \\\n",
       "0  https://images.craigslist.org/00B0B_k2AXIJ21ok...   \n",
       "1  https://images.craigslist.org/00U0U_3cLk0WGOJ8...   \n",
       "2  https://images.craigslist.org/00k0k_t4WqYn5nDC...   \n",
       "3  https://images.craigslist.org/00J0J_lJEzfeVLHI...   \n",
       "4  https://images.craigslist.org/01010_j0IW34mCsm...   \n",
       "\n",
       "                                         description county state      lat  \\\n",
       "0  THIS 2012 JEEP PATRIOT IS A 4CYL. AC, STEREO, ...    NaN    az  34.4554   \n",
       "1  Selling my 2014 BMW 328i with the following be...    NaN    or  46.1837   \n",
       "2  01 DODGE CARAVAN,3.3 ENGINE,AUT TRANS,199000 M...    NaN    sc  34.9352   \n",
       "3  2004 Chevy Colorado LS, ONLY 54000 ORIGINAL MI...    NaN    az  34.4783   \n",
       "4  CALL: 207.548.6500 TEXT: 207.407.5598  **WE FI...    NaN    me  44.4699   \n",
       "\n",
       "       long  \n",
       "0 -114.2690  \n",
       "1 -123.8240  \n",
       "2  -81.9654  \n",
       "3 -114.2710  \n",
       "4  -68.8963  \n",
       "\n",
       "[5 rows x 25 columns]"
      ]
     },
     "execution_count": 73,
     "metadata": {},
     "output_type": "execute_result"
    }
   ],
   "source": [
    "data_source4 = pd.read_csv(\"./data/vehicles.csv\")\n",
    "data_source4.head()\n"
   ]
  },
  {
   "cell_type": "code",
   "execution_count": 74,
   "metadata": {},
   "outputs": [
    {
     "data": {
      "text/plain": [
       "(435849, 25)"
      ]
     },
     "execution_count": 74,
     "metadata": {},
     "output_type": "execute_result"
    }
   ],
   "source": [
    "data_source4.shape"
   ]
  },
  {
   "cell_type": "code",
   "execution_count": 75,
   "metadata": {},
   "outputs": [
    {
     "data": {
      "text/plain": [
       "Index(['id', 'url', 'region', 'region_url', 'price', 'year', 'manufacturer',\n",
       "       'model', 'condition', 'cylinders', 'fuel', 'odometer', 'title_status',\n",
       "       'transmission', 'vin', 'drive', 'size', 'type', 'paint_color',\n",
       "       'image_url', 'description', 'county', 'state', 'lat', 'long'],\n",
       "      dtype='object')"
      ]
     },
     "execution_count": 75,
     "metadata": {},
     "output_type": "execute_result"
    }
   ],
   "source": [
    "data_source4.columns"
   ]
  },
  {
   "cell_type": "code",
   "execution_count": 76,
   "metadata": {},
   "outputs": [
    {
     "data": {
      "text/plain": [
       "id                int64\n",
       "url              object\n",
       "region           object\n",
       "region_url       object\n",
       "price             int64\n",
       "year            float64\n",
       "manufacturer     object\n",
       "model            object\n",
       "condition        object\n",
       "cylinders        object\n",
       "fuel             object\n",
       "odometer        float64\n",
       "title_status     object\n",
       "transmission     object\n",
       "vin              object\n",
       "drive            object\n",
       "size             object\n",
       "type             object\n",
       "paint_color      object\n",
       "image_url        object\n",
       "description      object\n",
       "county          float64\n",
       "state            object\n",
       "lat             float64\n",
       "long            float64\n",
       "dtype: object"
      ]
     },
     "execution_count": 76,
     "metadata": {},
     "output_type": "execute_result"
    }
   ],
   "source": [
    "data_source4.dtypes"
   ]
  },
  {
   "cell_type": "code",
   "execution_count": 63,
   "metadata": {},
   "outputs": [
    {
     "data": {
      "text/plain": [
       "6"
      ]
     },
     "execution_count": 63,
     "metadata": {},
     "output_type": "execute_result"
    }
   ],
   "source": [
    "for co\n",
    "data_source4[\"condition\"].nunique()"
   ]
  },
  {
   "cell_type": "code",
   "execution_count": 70,
   "metadata": {},
   "outputs": [
    {
     "name": "stdout",
     "output_type": "stream",
     "text": [
      "['jeep', 'bmw', 'dodge', 'chevrolet', 'ford', 'ram', 'honda', 'toyota', 'nissan', 'subaru', 'gmc', 'volkswagen', 'kia', 'acura', 'chrysler', 'hyundai', 'cadillac', 'volvo', 'mini', 'mercedes-benz', 'audi', 'mazda', 'pontiac', 'buick', 'infiniti', 'mitsubishi', 'rover', 'lincoln', 'lexus', 'fiat', 'jaguar', 'mercury', 'saturn', 'datsun', 'porche', 'tesla', 'harley-davidson', 'ferrari', 'land rover', 'alfa-romeo', 'morgan', 'aston-martin']\n"
     ]
    }
   ],
   "source": [
    "make_names = data_source4[\"manufacturer\"].unique()\n",
    "makes = [x for x in make_names if str(x) != 'nan']\n",
    "print(makes)"
   ]
  },
  {
   "cell_type": "code",
   "execution_count": 72,
   "metadata": {},
   "outputs": [
    {
     "name": "stdout",
     "output_type": "stream",
     "text": [
      "jeep 19704.0\n",
      "bmw 12516.0\n",
      "dodge 14437.0\n",
      "chevrolet 62392.0\n",
      "ford 78257.0\n",
      "ram 20300.0\n",
      "honda 22408.0\n",
      "toyota 34332.0\n",
      "nissan 23135.0\n",
      "subaru 10429.0\n",
      "gmc 18649.0\n",
      "volkswagen 9867.0\n",
      "kia 7827.0\n",
      "acura 3458.0\n",
      "chrysler 6598.0\n",
      "hyundai 10595.0\n",
      "cadillac 6368.0\n",
      "volvo 2716.0\n",
      "mini 1917.0\n",
      "mercedes-benz 9520.0\n",
      "audi 4959.0\n",
      "mazda 5279.0\n",
      "pontiac 2723.0\n",
      "buick 5569.0\n",
      "infiniti 3381.0\n",
      "mitsubishi 2417.0\n",
      "rover 1845.0\n",
      "lincoln 2848.0\n",
      "lexus 5591.0\n",
      "fiat 935.0\n",
      "jaguar 911.0\n",
      "mercury 1287.0\n",
      "saturn 1181.0\n",
      "datsun 71.0\n",
      "porche 27.0\n",
      "tesla 326.0\n",
      "harley-davidson 142.0\n",
      "ferrari 80.0\n",
      "land rover 23.0\n",
      "alfa-romeo 67.0\n",
      "morgan 4.0\n",
      "aston-martin 34.0\n"
     ]
    }
   ],
   "source": [
    "df = pd.DataFrame(data_source4,columns=['manufacturer'])\n",
    "for make in makes:\n",
    "    print(make,df.manufacturer.str.count(make).sum())\n",
    "    \n",
    "\n"
   ]
  },
  {
   "cell_type": "code",
   "execution_count": 49,
   "metadata": {},
   "outputs": [
    {
     "data": {
      "text/plain": [
       "0"
      ]
     },
     "execution_count": 49,
     "metadata": {},
     "output_type": "execute_result"
    }
   ],
   "source": [
    "data_source4.manufacturer.str.count(\"bmw\").sum()"
   ]
  },
  {
   "cell_type": "code",
   "execution_count": null,
   "metadata": {},
   "outputs": [],
   "source": []
  },
  {
   "cell_type": "code",
   "execution_count": null,
   "metadata": {},
   "outputs": [],
   "source": []
  },
  {
   "cell_type": "code",
   "execution_count": null,
   "metadata": {},
   "outputs": [],
   "source": []
  },
  {
   "cell_type": "code",
   "execution_count": null,
   "metadata": {},
   "outputs": [],
   "source": []
  },
  {
   "cell_type": "code",
   "execution_count": null,
   "metadata": {},
   "outputs": [],
   "source": []
  },
  {
   "cell_type": "code",
   "execution_count": null,
   "metadata": {},
   "outputs": [],
   "source": []
  }
 ],
 "metadata": {
  "kernelspec": {
   "display_name": "Python 3",
   "language": "python",
   "name": "python3"
  },
  "language_info": {
   "codemirror_mode": {
    "name": "ipython",
    "version": 3
   },
   "file_extension": ".py",
   "mimetype": "text/x-python",
   "name": "python",
   "nbconvert_exporter": "python",
   "pygments_lexer": "ipython3",
   "version": "3.8.2"
  }
 },
 "nbformat": 4,
 "nbformat_minor": 4
}
